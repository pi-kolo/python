{
 "cells": [
  {
   "cell_type": "markdown",
   "metadata": {},
   "source": [
    "# Lista 1\n",
    "\n",
    "## Kurs wybranego języka programowania (Python)\n",
    "\n",
    "Wszystkie rozwiązania proszę wpisać w tym notatniku poniżej treści zadań. Zadania z `*` to zadania dodatkowe."
   ]
  },
  {
   "cell_type": "markdown",
   "metadata": {},
   "source": [
    "## Zadanie 1 _(5pt)_\n",
    "\n",
    "Napisz funkcję, który wyświetla trójkąt Pascala o zadanej wysokości\n",
    "```\n",
    "                1\n",
    "              1   1\n",
    "            1   2   1\n",
    "          1   3   3   1\n",
    "        1   4   6   4   1\n",
    "      .....................\n",
    "```"
   ]
  },
  {
   "cell_type": "code",
   "execution_count": 5,
   "metadata": {},
   "outputs": [
    {
     "name": "stdout",
     "output_type": "stream",
     "text": [
      "        1   \n",
      "      1   1   \n",
      "    1   2   1   \n",
      "  1   3   3   1   \n",
      "1   4   6   4   1   \n"
     ]
    }
   ],
   "source": [
    "def pascal_triangle(n):\n",
    "    array = [[1]]\n",
    "    for i in range(1,n):\n",
    "        array.append([1])\n",
    "        for j in range(1, i):\n",
    "            array[i].append(array[i-1][j-1]+array[i-1][j])\n",
    "        array[i].append(1)\n",
    "    for row in array:\n",
    "        print(\"  \"*(n-len(row)), sep=\"\", end=\"\")\n",
    "        for element in row:\n",
    "            print(element, end=\"   \")\n",
    "        print()\n",
    "\n",
    "pascal_triangle(5)"
   ]
  },
  {
   "cell_type": "markdown",
   "metadata": {},
   "source": [
    "## Zadanie 2 _(5pt)_\n",
    "\n",
    "Napisz funkcję `primes(n)` zwracająca listę liczb pierwszych nie większych niż $n$ np.\n",
    "\n",
    "```\n",
    "In [ ]:   primes(6)\n",
    "Out [ ]: [2, 3, 5]\n",
    "```"
   ]
  },
  {
   "cell_type": "code",
   "execution_count": 28,
   "metadata": {},
   "outputs": [
    {
     "name": "stdout",
     "output_type": "stream",
     "text": [
      "[2, 3, 5, 7]\n"
     ]
    }
   ],
   "source": [
    "from math import floor, sqrt\n",
    "def primes(n):\n",
    "    out = []\n",
    "    for i in range(2,n+1):\n",
    "        for j in out:#range(2, floor(sqrt(n))+1):\n",
    "            if i % j == 0 and i != j:\n",
    "                break\n",
    "        else:\n",
    "            out.append(i)\n",
    "    return out\n",
    "print(primes(7))"
   ]
  },
  {
   "cell_type": "markdown",
   "metadata": {},
   "source": [
    "## Zadanie 3 _(5pt)_\n",
    "\n",
    "Napisz funkcje, która usuwa wszystkie powtarzające się elementy z listy (tak, że każdy element występuje tylko raz) np. z listy `[1,1,2,2,2,3,3,5,5,5,4,4,4,0]` dostajemy `[1,2,3,5,4,0]`."
   ]
  },
  {
   "cell_type": "code",
   "execution_count": 4,
   "metadata": {},
   "outputs": [
    {
     "data": {
      "text/plain": [
       "[0, 1, 2, 3, 4, 5, 6]"
      ]
     },
     "execution_count": 4,
     "metadata": {},
     "output_type": "execute_result"
    }
   ],
   "source": [
    "def remove_duplicates(lista):\n",
    "    return list(set(lista))\n",
    "remove_duplicates([1,1,2,2,2,3,3,4,5,5,6,0])"
   ]
  },
  {
   "cell_type": "markdown",
   "metadata": {},
   "source": [
    "## Zadanie 4 _(10pt)_\n",
    "\n",
    "Napisz funkcję `prime_factors(n)`, która rozkłada $n$ na czynniki pierwsze i jako wynik wraca listę par $[(p_1,\\alpha_1), (p_2,\\alpha_2), \\ldots, (p_k, \\alpha_k)]$ taką, że $p_1^{\\alpha_1}p_2^{\\alpha_2}\\ldots p_k^{\\alpha_k}$.\n"
   ]
  },
  {
   "cell_type": "code",
   "execution_count": 13,
   "metadata": {},
   "outputs": [
    {
     "name": "stdout",
     "output_type": "stream",
     "text": [
      "[(2, 1), (5, 1)]\n"
     ]
    }
   ],
   "source": [
    "def prime_factors(n):\n",
    "    divisor = 2\n",
    "    output = []\n",
    "    while n>1:\n",
    "        if n%divisor==0:\n",
    "            if len(output)>0 and output[-1][0]==divisor:\n",
    "                output[-1] = (divisor, output[-1][1]+1)\n",
    "            else :\n",
    "                output.append((divisor, 1))\n",
    "            n /= divisor\n",
    "        else:\n",
    "            divisor+=1\n",
    "    return output   \n",
    "print(prime_factors(10))"
   ]
  },
  {
   "cell_type": "markdown",
   "metadata": {},
   "source": [
    "## Zadanie 5 _(10pt)_\n",
    "\n",
    "Napisz funkcję `fraczero(n)` liczącą silnie $n!$ dla $n$ od $0$ do $10000$ oraz jako wynik wraca liczbę zer na końcu $n!$."
   ]
  },
  {
   "cell_type": "code",
   "execution_count": 29,
   "metadata": {},
   "outputs": [
    {
     "name": "stdout",
     "output_type": "stream",
     "text": [
      "2\n"
     ]
    }
   ],
   "source": [
    "def fraczero(n):\n",
    "    zeros = 0\n",
    "    for i in range(5, n+1, 5):\n",
    "        while i%5 == 0:\n",
    "            zeros += 1\n",
    "            i //= 5\n",
    "    return zeros\n",
    "        \n",
    "print(fraczero(10))"
   ]
  },
  {
   "cell_type": "markdown",
   "metadata": {},
   "source": [
    "## Zadanie 6 _(10pt)_\n",
    "\n",
    "Napisz program, który generuje liczbę $20$ liczb losowych (rozkład jednostajny) od $1$ do $100$\n",
    "* Wyświetl listę wygenerowanych liczb\n",
    "* Wyświetl średnią\n",
    "* Wyświetl największą i najmniejszą wartość\n",
    "* Wyświetl drugą największą i drugą najmniejszą wartość na liście\n",
    "* Wyświetl ile jest liczb parzystych na liście\n",
    " "
   ]
  },
  {
   "cell_type": "code",
   "execution_count": 31,
   "metadata": {},
   "outputs": [
    {
     "name": "stdout",
     "output_type": "stream",
     "text": [
      "[72, 48, 58, 3, 31, 90, 24, 28, 31, 26, 25, 62, 79, 89, 58, 44, 68, 36, 96, 63]\n",
      "Średnia: 51.55\n",
      "Max: 96, min: 3\n",
      "Max2: 90, min2: 24\n",
      "Liczba parzystych: 13\n"
     ]
    }
   ],
   "source": [
    "from random import randint\n",
    "\n",
    "numbers = [randint(1,100) for i in range(20)]\n",
    "print(numbers)\n",
    "print(f\"Średnia: {sum(numbers)/20}\")\n",
    "print(f\"Max: {max(numbers)}, min: {min(numbers)}\")\n",
    "num2 = numbers.copy()\n",
    "num2.remove(max(numbers))\n",
    "num2.remove(min(numbers))\n",
    "print(f\"Max2: {max(num2)}, min2: {min(num2)}\")\n",
    "print(f\"Liczba parzystych: {len([i for i in numbers if i%2==0])}\")\n"
   ]
  },
  {
   "cell_type": "markdown",
   "metadata": {},
   "source": [
    "## Zadanie 7 _(10pt)_\n",
    "\n",
    "Załóżmy, że mamy następującą listę: `L = ['aababacaa', 'cabaabcca', 'aaabbcbacb', 'acababbaab', ...]` wygenerowaną losowo tzn. lista zawiera losowe ciągi znaków o zadanej długości z liter `'a'`, `'b'` i `'c'`. Takie wzorce występują w wielu miejscach np. sekwencje DNA. Użytkownik zawiera swój (wzorzec) ciąg znaków z literami i pustymi miejscami oznaczonymi przez `'*'` np. `\"a**a******\"`. Wykorzystaj słownik z kluczami zawierającymi indeksy znaków różnych od `'*'` i wartościami liter z wzorca. Napisz program, który znajduje wszystkie sekwencje z listy, które pasuje do podanego wzorca."
   ]
  },
  {
   "cell_type": "code",
   "execution_count": 49,
   "metadata": {},
   "outputs": [
    {
     "name": "stdout",
     "output_type": "stream",
     "text": [
      "['aababacaa', 'acaaabbaab']\n"
     ]
    }
   ],
   "source": [
    "L = ['aababacaa', 'cabaabcca', 'aaabbcbacb', 'acaaabbaab']\n",
    "pattern = 'a**a******'\n",
    "def find_occurances(L, pattern):\n",
    "    pattern_dictionary = {index:letter for index, letter in enumerate(pattern) if letter!='*'}\n",
    "    sequences=[]\n",
    "    for sequence in L:\n",
    "        for index, letter in pattern_dictionary.items():\n",
    "            if sequence[index]!=letter:\n",
    "                break\n",
    "        else :\n",
    "            sequences.append(sequence)\n",
    "    return sequences\n",
    "        \n",
    "print(find_occurances(L,pattern))"
   ]
  },
  {
   "cell_type": "markdown",
   "metadata": {},
   "source": [
    "## Zadanie 8 _(10pt)_\n",
    "\n",
    "Napisz program, który konwerteruje liczby rzymskie na liczby arabskie. Do zapisu liczb rzymskich używa\n",
    "się 7 liter: `I=1`, `V=5`, `X=10`, `L=50`, `C=100`, `D=500`, `M=1000`. Opis algorytmu zamiany z i na system rzymski można znaleźć np. [tutaj](http://www.algorytm.org/algorytmy-arytmetyczne/zamiana-z-i-na-system-rzymski.html)"
   ]
  },
  {
   "cell_type": "code",
   "execution_count": 32,
   "metadata": {},
   "outputs": [
    {
     "name": "stdout",
     "output_type": "stream",
     "text": [
      "9\n"
     ]
    }
   ],
   "source": [
    "roman_arabic_dict = {\"I\":1, \"V\":5, \"X\":10, \"L\":50, \"C\":100, \"D\": 500, \"M\":1000}\n",
    "\n",
    "def roman_to_arabic(roman):\n",
    "    arabic = 0\n",
    "    last = 0\n",
    "    for i, l in enumerate(roman[::-1]):\n",
    "        a = roman_arabic_dict.get(l)\n",
    "        if a >= last:\n",
    "            last = a\n",
    "            arabic += a\n",
    "        else:\n",
    "            arabic -= a\n",
    "    return arabic\n",
    "\n",
    "print(roman_to_arabic(\"IX\"))"
   ]
  },
  {
   "cell_type": "markdown",
   "metadata": {},
   "source": [
    "## Zadanie 9* _(5pt)_\n",
    "\n",
    "Napisz program kalkulator, który pobiera wprowadzone wartości oraz funkcje z klawiatury następnie podaje wynik. W przypadku błędnych danych zgłasza błąd.\n",
    "\n",
    "Przykładowa sesja:\n",
    "```\n",
    "    Kalkulator\n",
    "    [1]: 2+5*10\n",
    "        52\n",
    "    [2]: sin(0.5)+cos(0.3)\n",
    "        1.434762027729809\n",
    "    [3]: 2^100\n",
    "        1267650600228229401496703205376\n",
    "```\n",
    "\n",
    "Przykładowy kod pobierania danych od użytkownika:\n",
    "\n",
    "```\n",
    "    x = input('Podaj x = ')\n",
    "```"
   ]
  },
  {
   "cell_type": "code",
   "execution_count": 6,
   "metadata": {},
   "outputs": [
    {
     "name": "stdout",
     "output_type": "stream",
     "text": [
      "Podaj x= 2^10\n",
      "1024\n"
     ]
    }
   ],
   "source": [
    "from math import sin, cos, log, exp, log2, pi, e\n",
    "\n",
    "x = input('Podaj x= ')\n",
    "x=x.replace(\"^\", \"**\")\n",
    "print(eval(x))"
   ]
  },
  {
   "cell_type": "markdown",
   "metadata": {},
   "source": [
    "\n",
    "## Zadanie 10* _(10pt)_\n",
    "\n",
    "Napisz program, który rysuje na ekranie w trybie znakowym wykres funkcji zmiennej $x$. Wskazówka: utwórz  ,,tablicę dwuwymiarową'' o wymiarach 80x24 i narysuj wykres w tej tablicy. Następnie wynik wyświetl na ekranie.\n",
    "\n",
    "```\n",
    "        Podaj funkcje f(x) = sin(x)\n",
    "        Podaj początek przedziału a = -pi\n",
    "        Podaj koniec przedziału b = pi\n",
    "                                                |\n",
    "                                                |\n",
    "                                                |              ***********\n",
    "                                                |           ***           ***\n",
    "                                                |         **                 **\n",
    "                                                |        *                     *\n",
    "                                                |      **                       **\n",
    "                                                |     *                           *\n",
    "                                                |   **                             **\n",
    "                                                |  *                                 *\n",
    "                                                | *                                   *\n",
    "                                                |*                                     *\n",
    "        ----------------------------------------|---------------------------------------\n",
    "          *                                   * |\n",
    "           *                                 *  |\n",
    "            **                             **   |\n",
    "              *                           *     |\n",
    "               **                       **      |\n",
    "                 *                     *        |\n",
    "                  **                 **         |\n",
    "                    ***           ***           |\n",
    "                       ***** *****              |\n",
    "                            *                   |\n",
    "                                                |\n",
    "```"
   ]
  },
  {
   "cell_type": "code",
   "execution_count": 34,
   "metadata": {},
   "outputs": [
    {
     "name": "stdout",
     "output_type": "stream",
     "text": [
      "Podaj funkcję: f(x)=sin(x)\n",
      "Początek przedziału: a= -4\n",
      "Koniec przedziału: b= 4\n",
      "                                        |               *                       \n",
      "                                        |           **** ***                    \n",
      "                                        |         **        **                  \n",
      "*                                       |        *            **                \n",
      " *                                      |       *               *               \n",
      "  *                                     |      *                 *              \n",
      "   *                                    |    **                   *             \n",
      "    *                                   |                          *            \n",
      "     *                                  |   *                       *           \n",
      "      *                                 |  *                         *          \n",
      "       *                                | *                           *         \n",
      "________*________________________________*______________________________________\n",
      "         *                              *                              *        \n",
      "                                       *|                               *       \n",
      "          *                           * |                                *      \n",
      "           *                         *  |                                 *     \n",
      "            *                       *   |                                  *    \n",
      "             *                          |                                   *   \n",
      "              *                   **    |                                    *  \n",
      "               *                 *      |                                     * \n",
      "                *               *       |                                      *\n",
      "                 **            *        |                                       \n",
      "                   **        **         |                                       \n",
      "                     ********           |                                       \n"
     ]
    }
   ],
   "source": [
    "from math import floor, sin, e, pi, exp, cos\n",
    "def draw_function():\n",
    "    row_number = 24\n",
    "    col_number=80\n",
    "    \n",
    "    function_string = input(\"Podaj funkcję: f(x)=\")\n",
    "    a = eval(input(\"Początek przedziału: a= \"))\n",
    "    b = eval(input(\"Koniec przedziału: b= \"))\n",
    "    \n",
    "    coordinates = [[\" \" for cols in range(col_number)] for rows in range(row_number)]\n",
    "    \n",
    "    if a*b < 0 :\n",
    "        for row in coordinates:\n",
    "            row[floor((-a/(b-a))*col_number)]='|'\n",
    "        \n",
    "    results = []\n",
    "    for cell in range(col_number):\n",
    "        x = a+cell*(b-a)/80\n",
    "        results.append(eval(function_string))\n",
    "    \n",
    "    f_min = min(results)\n",
    "    f_max = max(results)\n",
    "    delta = (f_max-f_min)/(row_number-1)\n",
    "    \n",
    "    if f_min * f_max < 0 :\n",
    "        for i in range(col_number):\n",
    "            coordinates[floor(-f_min/(f_max-f_min)*row_number)][i]='_'\n",
    "    \n",
    "    for col in range(col_number):\n",
    "        i =  floor((results[col]-f_min)/delta) \n",
    "        coordinates[row_number-i-1][col] = '*'\n",
    "        \n",
    "    for row in coordinates:\n",
    "        for col in row:\n",
    "            print(col, end=\"\")\n",
    "        print()\n",
    "    \n",
    "draw_function()"
   ]
  },
  {
   "cell_type": "code",
   "execution_count": null,
   "metadata": {},
   "outputs": [],
   "source": []
  },
  {
   "cell_type": "code",
   "execution_count": null,
   "metadata": {},
   "outputs": [],
   "source": []
  },
  {
   "cell_type": "code",
   "execution_count": null,
   "metadata": {},
   "outputs": [],
   "source": []
  }
 ],
 "metadata": {
  "kernelspec": {
   "display_name": "Python 3",
   "language": "python",
   "name": "python3"
  },
  "language_info": {
   "codemirror_mode": {
    "name": "ipython",
    "version": 3
   },
   "file_extension": ".py",
   "mimetype": "text/x-python",
   "name": "python",
   "nbconvert_exporter": "python",
   "pygments_lexer": "ipython3",
   "version": "3.8.0"
  }
 },
 "nbformat": 4,
 "nbformat_minor": 2
}
